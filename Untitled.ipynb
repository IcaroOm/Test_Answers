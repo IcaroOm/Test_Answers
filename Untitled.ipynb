{
 "cells": [
  {
   "cell_type": "markdown",
   "id": "25db8893-100e-4d02-b0be-edda7f174d56",
   "metadata": {},
   "source": [
    "## 1) Observe o trecho de código abaixo: \n",
    "int INDICE = 13, SOMA = 0, K = 0;\n",
    "Enquanto K < INDICE faça { K = K + 1; SOMA = SOMA + K; }\n",
    "Imprimir(SOMA);\n",
    "\n",
    "Ao final do processamento, qual será o valor da variável SOMA?"
   ]
  },
  {
   "cell_type": "code",
   "execution_count": 7,
   "id": "cfc524ca-cd30-45c2-9430-48034cc7acc8",
   "metadata": {},
   "outputs": [
    {
     "name": "stdout",
     "output_type": "stream",
     "text": [
      "91\n"
     ]
    }
   ],
   "source": [
    "i, k, s = 13, 0, 0\n",
    "\n",
    "while k<i:\n",
    "    k=k+1\n",
    "    s = s+k\n",
    "    \n",
    "print(s)"
   ]
  },
  {
   "cell_type": "markdown",
   "id": "e536ed79-1051-4f07-b97f-93920890f20d",
   "metadata": {},
   "source": [
    "## 2) Dado a sequência de Fibonacci, onde se inicia por 0 e 1 e o próximo valor sempre será a soma dos 2 valores anteriores (exemplo: 0, 1, 1, 2, 3, 5, 8, 13, 21, 34...), escreva um programa na linguagem que desejar onde, informado um número, ele calcule a sequência de Fibonacci e retorne uma mensagem avisando se o número informado pertence ou não a sequência."
   ]
  },
  {
   "cell_type": "code",
   "execution_count": 2,
   "id": "4bfe2c1c-8d9a-4e10-8e33-636810fd47d8",
   "metadata": {},
   "outputs": [
    {
     "name": "stdin",
     "output_type": "stream",
     "text": [
      "Informe um número:  324\n"
     ]
    },
    {
     "name": "stdout",
     "output_type": "stream",
     "text": [
      "324 não pertence à sequência de Fibonacci.\n"
     ]
    }
   ],
   "source": [
    "def is_fibonacci(n: int) -> bool:\n",
    "    a, b = 0, 1\n",
    "    while a < n:\n",
    "        a, b = b, a + b\n",
    "    return a == n\n",
    "\n",
    "# Defina o número a ser verificado\n",
    "num = int(input(\"Informe um número: \"))\n",
    "\n",
    "if is_fibonacci(num):\n",
    "    print(f\"{num} pertence à sequência de Fibonacci.\")\n",
    "else:\n",
    "    print(f\"{num} não pertence à sequência de Fibonacci.\")"
   ]
  },
  {
   "cell_type": "markdown",
   "id": "a6979584-522f-4909-a2d1-c1d37f8966e6",
   "metadata": {},
   "source": [
    "### 3) Dado um vetor que guarda o valor de faturamento diário de uma distribuidora, faça um programa, na linguagem que desejar, que calcule e retorne:\n",
    "- O menor valor de faturamento ocorrido em um dia do mês;\n",
    "- O maior valor de faturamento ocorrido em um dia do mês;\n",
    "- Número de dias no mês em que o valor de faturamento diário foi superior à média mensal."
   ]
  },
  {
   "cell_type": "code",
   "execution_count": 8,
   "id": "3f43f50a-d439-4baf-a6a8-f5c14f242f68",
   "metadata": {},
   "outputs": [],
   "source": [
    "dados = [\n",
    "\t{\n",
    "\t\t\"dia\": 1,\n",
    "\t\t\"valor\": 22174.1664\n",
    "\t},\n",
    "\t{\n",
    "\t\t\"dia\": 2,\n",
    "\t\t\"valor\": 24537.6698\n",
    "\t},\n",
    "\t{\n",
    "\t\t\"dia\": 3,\n",
    "\t\t\"valor\": 26139.6134\n",
    "\t},\n",
    "\t{\n",
    "\t\t\"dia\": 4,\n",
    "\t\t\"valor\": 0.0\n",
    "\t},\n",
    "\t{\n",
    "\t\t\"dia\": 5,\n",
    "\t\t\"valor\": 0.0\n",
    "\t},\n",
    "\t{\n",
    "\t\t\"dia\": 6,\n",
    "\t\t\"valor\": 26742.6612\n",
    "\t},\n",
    "\t{\n",
    "\t\t\"dia\": 7,\n",
    "\t\t\"valor\": 0.0\n",
    "\t},\n",
    "\t{\n",
    "\t\t\"dia\": 8,\n",
    "\t\t\"valor\": 42889.2258\n",
    "\t},\n",
    "\t{\n",
    "\t\t\"dia\": 9,\n",
    "\t\t\"valor\": 46251.174\n",
    "\t},\n",
    "\t{\n",
    "\t\t\"dia\": 10,\n",
    "\t\t\"valor\": 11191.4722\n",
    "\t},\n",
    "\t{\n",
    "\t\t\"dia\": 11,\n",
    "\t\t\"valor\": 0.0\n",
    "\t},\n",
    "\t{\n",
    "\t\t\"dia\": 12,\n",
    "\t\t\"valor\": 0.0\n",
    "\t},\n",
    "\t{\n",
    "\t\t\"dia\": 13,\n",
    "\t\t\"valor\": 3847.4823\n",
    "\t},\n",
    "\t{\n",
    "\t\t\"dia\": 14,\n",
    "\t\t\"valor\": 373.7838\n",
    "\t},\n",
    "\t{\n",
    "\t\t\"dia\": 15,\n",
    "\t\t\"valor\": 2659.7563\n",
    "\t},\n",
    "\t{\n",
    "\t\t\"dia\": 16,\n",
    "\t\t\"valor\": 48924.2448\n",
    "\t},\n",
    "\t{\n",
    "\t\t\"dia\": 17,\n",
    "\t\t\"valor\": 18419.2614\n",
    "\t},\n",
    "\t{\n",
    "\t\t\"dia\": 18,\n",
    "\t\t\"valor\": 0.0\n",
    "\t},\n",
    "\t{\n",
    "\t\t\"dia\": 19,\n",
    "\t\t\"valor\": 0.0\n",
    "\t},\n",
    "\t{\n",
    "\t\t\"dia\": 20,\n",
    "\t\t\"valor\": 35240.1826\n",
    "\t},\n",
    "\t{\n",
    "\t\t\"dia\": 21,\n",
    "\t\t\"valor\": 43829.1667\n",
    "\t},\n",
    "\t{\n",
    "\t\t\"dia\": 22,\n",
    "\t\t\"valor\": 18235.6852\n",
    "\t},\n",
    "\t{\n",
    "\t\t\"dia\": 23,\n",
    "\t\t\"valor\": 4355.0662\n",
    "\t},\n",
    "\t{\n",
    "\t\t\"dia\": 24,\n",
    "\t\t\"valor\": 13327.1025\n",
    "\t},\n",
    "\t{\n",
    "\t\t\"dia\": 25,\n",
    "\t\t\"valor\": 0.0\n",
    "\t},\n",
    "\t{\n",
    "\t\t\"dia\": 26,\n",
    "\t\t\"valor\": 0.0\n",
    "\t},\n",
    "\t{\n",
    "\t\t\"dia\": 27,\n",
    "\t\t\"valor\": 25681.8318\n",
    "\t},\n",
    "\t{\n",
    "\t\t\"dia\": 28,\n",
    "\t\t\"valor\": 1718.1221\n",
    "\t},\n",
    "\t{\n",
    "\t\t\"dia\": 29,\n",
    "\t\t\"valor\": 13220.495\n",
    "\t},\n",
    "\t{\n",
    "\t\t\"dia\": 30,\n",
    "\t\t\"valor\": 8414.61\n",
    "\t}\n",
    "]"
   ]
  },
  {
   "cell_type": "code",
   "execution_count": 14,
   "id": "41b74c58-8c9e-4c89-995d-7e472fcb0d4f",
   "metadata": {},
   "outputs": [
    {
     "name": "stdout",
     "output_type": "stream",
     "text": [
      "Menor valor de faturamento: R$373.78\n",
      "Maior valor de faturamento: R$48924.24\n",
      "Número de dias com faturamento acima da média: 10\n"
     ]
    }
   ],
   "source": [
    "# Filtrar os dias com faturamento maior que 0\n",
    "valores_validos = []\n",
    "\n",
    "for dia in dados:\n",
    "    if dia[\"valor\"] > 0:\n",
    "        valores_validos.append(dia[\"valor\"])\n",
    "\n",
    "# Encontrar o menor e o maior valor manualmente\n",
    "menor_valor = valores_validos[0]\n",
    "maior_valor = valores_validos[0]\n",
    "\n",
    "for valor in valores_validos:\n",
    "    if valor < menor_valor:\n",
    "        menor_valor = valor\n",
    "    if valor > maior_valor:\n",
    "        maior_valor = valor\n",
    "        \n",
    "# Calcular a média mensal\n",
    "media_mensal = sum(valores_validos) / len(valores_validos)\n",
    "\n",
    "# Contar os dias com faturamento acima da média\n",
    "dias_acima_da_media = 0\n",
    "\n",
    "for valor in valores_validos:\n",
    "    if valor > media_mensal:\n",
    "        dias_acima_da_media += 1\n",
    "\n",
    "# Exibir resultados\n",
    "print(f\"Menor valor de faturamento: R${menor_valor:.2f}\")\n",
    "print(f\"Maior valor de faturamento: R${maior_valor:.2f}\")\n",
    "print(f\"Número de dias com faturamento acima da média: {dias_acima_da_media}\")"
   ]
  },
  {
   "cell_type": "markdown",
   "id": "f30a0187-d047-4bd5-9a2e-5f0908b475fc",
   "metadata": {},
   "source": [
    "4) Dado o valor de faturamento mensal de uma distribuidora, detalhado por estado:"
   ]
  },
  {
   "cell_type": "code",
   "execution_count": 13,
   "id": "32447915-0027-49a4-890f-1ba2e40dea7c",
   "metadata": {},
   "outputs": [
    {
     "name": "stdout",
     "output_type": "stream",
     "text": [
      "SP teve 37.53% de participação no faturamento.\n",
      "RJ teve 20.29% de participação no faturamento.\n",
      "MG teve 16.17% de participação no faturamento.\n",
      "ES teve 15.03% de participação no faturamento.\n",
      "Outros teve 10.98% de participação no faturamento.\n"
     ]
    }
   ],
   "source": [
    "faturamento = {\n",
    "    \"SP\": 67836.43,\n",
    "    \"RJ\": 36678.66,\n",
    "    \"MG\": 29229.88,\n",
    "    \"ES\": 27165.48,\n",
    "    \"Outros\": 19849.53\n",
    "}\n",
    "\n",
    "# Calcular o faturamento total\n",
    "faturamento_total = sum(faturamento.values())\n",
    "\n",
    "# Calcular o percentual de cada estado\n",
    "for estado, valor in faturamento.items():\n",
    "    percentual = (valor / faturamento_total) * 100\n",
    "    print(f\"{estado} teve {percentual:.2f}% de participação no faturamento.\")"
   ]
  },
  {
   "cell_type": "markdown",
   "id": "4e0357c6-7efd-4982-a242-75dd44b253a7",
   "metadata": {},
   "source": [
    "5) Escreva um programa que inverta os caracteres de um string."
   ]
  },
  {
   "cell_type": "code",
   "execution_count": 4,
   "id": "1508c72d-8db9-41f8-acde-9f16bd833a32",
   "metadata": {},
   "outputs": [
    {
     "name": "stdin",
     "output_type": "stream",
     "text": [
      "Informe uma string:  testando\n"
     ]
    },
    {
     "name": "stdout",
     "output_type": "stream",
     "text": [
      "String invertida: odnatset\n"
     ]
    }
   ],
   "source": [
    "def inverter_string(s: str) -> str:\n",
    "    invertida = (s[::-1])\n",
    "    return invertida\n",
    "\n",
    "# Defina a string que deseja inverter\n",
    "string = input(\"Informe uma string: \")\n",
    "\n",
    "# Exibir a string invertida\n",
    "print(\"String invertida:\", inverter_string(string))"
   ]
  }
 ],
 "metadata": {
  "kernelspec": {
   "display_name": "Python 3 (ipykernel)",
   "language": "python",
   "name": "python3"
  },
  "language_info": {
   "codemirror_mode": {
    "name": "ipython",
    "version": 3
   },
   "file_extension": ".py",
   "mimetype": "text/x-python",
   "name": "python",
   "nbconvert_exporter": "python",
   "pygments_lexer": "ipython3",
   "version": "3.9.13"
  }
 },
 "nbformat": 4,
 "nbformat_minor": 5
}
